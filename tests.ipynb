{
 "cells": [
  {
   "cell_type": "code",
   "execution_count": 2,
   "metadata": {},
   "outputs": [
    {
     "name": "stdout",
     "output_type": "stream",
     "text": [
      "0\n",
      "1\n",
      "1\n",
      "2\n",
      "2\n",
      "3\n",
      "3\n",
      "4\n",
      "4\n",
      "5\n"
     ]
    }
   ],
   "source": [
    "for i in range(5):\n",
    "    print(i)\n",
    "    i += 1\n",
    "    print(i)"
   ]
  },
  {
   "cell_type": "code",
   "execution_count": 8,
   "metadata": {},
   "outputs": [
    {
     "name": "stdout",
     "output_type": "stream",
     "text": [
      "[[1, 2], [2, 3], [3, 4], [4, 1], [1, 2], [2, 3], [3, 4], [1, 2, 3], [2, 3, 4], [3, 4, 1], [4, 1, 2], [1, 2, 3], [2, 3, 4], [1, 2, 3, 4], [2, 3, 4, 1], [3, 4, 1, 2], [4, 1, 2, 3], [1, 2, 3, 4]]\n",
      "2\n"
     ]
    }
   ],
   "source": [
    "liss = [1, 2, 3, 4, 1, 2, 3, 4]\n",
    "lis = []\n",
    "for i in range(2, len(liss) // 2 + 1):\n",
    "    for j in range(len(liss) - i + 1):\n",
    "        lis.append(liss[j : j + i])\n",
    "print(lis)\n",
    "print(lis.count([1, 2, 3, 4]))"
   ]
  },
  {
   "cell_type": "code",
   "execution_count": 1,
   "metadata": {},
   "outputs": [
    {
     "name": "stdout",
     "output_type": "stream",
     "text": [
      "[76, 49, 62, 32, 18, 46, 59, 34, 79, 88, 29, 14, 61, 90, 98, 5, 20, 68, 91, 16, 53, 43, 80, 52, 65, 45, 36, 26, 13, 4, 66, 72, 58, 9, 11, 85, 6, 37, 3, 82, 75, 94, 35, 33, 42, 84, 95, 38, 27, 17, 15, 1, 86, 51, 19, 97, 25, 21, 10, 83, 92, 41, 96, 54, 24, 63, 7, 30, 64, 60, 99, 71, 57, 22, 74, 89, 77, 69, 73, 55, 93, 47, 70, 23, 50, 40, 56, 28, 2, 31, 87, 67, 48, 39, 44, 81, 78, 12, 8]\n",
      "\n",
      "\n",
      "[1, 2, 3, 4, 5, 6, 7, 8, 9, 10, 11, 12, 13, 14, 15, 16, 17, 18, 19, 20, 21, 22, 23, 24, 25, 26, 27, 28, 29, 30, 31, 32, 33, 34, 35, 36, 37, 38, 39, 40, 41, 42, 43, 44, 45, 46, 47, 48, 49, 50, 51, 52, 53, 54, 55, 56, 57, 58, 59, 60, 61, 62, 63, 64, 65, 66, 67, 68, 69, 70, 71, 72, 73, 74, 75, 76, 77, 78, 79, 80, 81, 82, 83, 84, 85, 86, 87, 88, 89, 90, 91, 92, 93, 94, 95, 96, 97, 98, 99]\n",
      "\n",
      "\n",
      "0:00:00.004986\n",
      "\n",
      "\n",
      "[95, 86, 24, 89, 40, 12, 42, 15, 19, 18, 46, 73, 37, 99, 59, 54, 32, 57, 88, 49, 75, 83, 21, 60, 2, 25, 30, 96, 69, 90, 97, 79, 51, 7, 78, 43, 53, 6, 22, 61, 74, 72, 44, 5, 26, 23, 16, 77, 81, 67, 62, 52, 3, 45, 65, 11, 82, 29, 94, 13, 27, 58, 17, 55, 41, 36, 28, 92, 48, 34, 93, 38, 8, 98, 1, 76, 9, 35, 91, 63, 39, 4, 64, 85, 14, 47, 10, 33, 20, 68, 50, 70, 80, 31, 71, 84, 66, 56, 87]\n",
      "\n",
      "\n",
      "[1, 2, 3, 4, 5, 6, 7, 8, 9, 10, 11, 12, 13, 14, 15, 16, 17, 18, 19, 20, 21, 22, 23, 24, 25, 26, 27, 28, 29, 30, 31, 32, 33, 34, 35, 36, 37, 38, 39, 40, 41, 42, 43, 44, 45, 46, 47, 48, 49, 50, 51, 52, 53, 54, 55, 56, 57, 58, 59, 60, 61, 62, 63, 64, 65, 66, 67, 68, 69, 70, 71, 72, 73, 74, 75, 76, 77, 78, 79, 80, 81, 82, 83, 84, 85, 86, 87, 88, 89, 90, 91, 92, 93, 94, 95, 96, 97, 98, 99]\n",
      "\n",
      "\n",
      "0:00:00\n"
     ]
    }
   ],
   "source": [
    "from random import shuffle\n",
    "import datetime\n",
    "\n",
    "\n",
    "lst = [x for x in range(1,100)]\n",
    "shuffle(lst)\n",
    "print(lst)\n",
    "copylist = []\n",
    "now = datetime.datetime.now()\n",
    "\n",
    "while lst != [] :\n",
    "    indx = 0\n",
    "    nul_el = lst[0]\n",
    "    while indx != len(lst) - 1:\n",
    "        indx += 1\n",
    "        if nul_el > lst[indx] :\n",
    "            nul_el = lst[indx]\n",
    "    lst.pop(lst.index(nul_el))\n",
    "    copylist.append(nul_el)\n",
    "\n",
    "\n",
    "stop = datetime.datetime.now()\n",
    "print('\\n')\n",
    "print(copylist)\n",
    "print('\\n')\n",
    "print(stop - now)\n",
    "\n",
    "print('\\n')\n",
    "\n",
    "now1 = datetime.datetime.now()\n",
    "shuffle(copylist)\n",
    "print(copylist)\n",
    "\n",
    "\n",
    "copylist.sort()\n",
    "\n",
    "\n",
    "stop1 = datetime.datetime.now()\n",
    "print('\\n')\n",
    "print(copylist)\n",
    "print('\\n')\n",
    "print(stop1 - now1)"
   ]
  },
  {
   "cell_type": "code",
   "execution_count": 1,
   "metadata": {},
   "outputs": [
    {
     "name": "stdout",
     "output_type": "stream",
     "text": [
      "(0, -10)\n",
      "(1, -9)\n",
      "(2, -8)\n",
      "(3, -7)\n",
      "(4, -6)\n",
      "(5, -5)\n",
      "(6, -4)\n",
      "(7, -3)\n",
      "(8, -2)\n",
      "(9, -1)\n"
     ]
    }
   ],
   "source": [
    "for n in enumerate(range(-10, 0)):\n",
    "    print(n)"
   ]
  },
  {
   "cell_type": "code",
   "execution_count": 5,
   "metadata": {},
   "outputs": [
    {
     "name": "stdout",
     "output_type": "stream",
     "text": [
      "eergr\n"
     ]
    }
   ],
   "source": [
    "def eergr():\n",
    "    return\n",
    "print(str(eergr).split()[1])"
   ]
  },
  {
   "cell_type": "code",
   "execution_count": 4,
   "metadata": {},
   "outputs": [
    {
     "name": "stdout",
     "output_type": "stream",
     "text": [
      "['2(1 + 1)', '+', '1']\n"
     ]
    }
   ],
   "source": [
    "def bracket_split(strin):\n",
    "    ret_lis = []\n",
    "    tec_el = ''\n",
    "    brac_count = 0\n",
    "    for el in strin:\n",
    "        if el == ' ' and brac_count == 0:\n",
    "            if tec_el:\n",
    "                ret_lis.append(tec_el)\n",
    "                tec_el = ''\n",
    "        elif el == '(':\n",
    "            brac_count += 1\n",
    "            tec_el += el\n",
    "        elif el == ')':\n",
    "            brac_count -= 1\n",
    "            tec_el += el\n",
    "        else:\n",
    "            tec_el += el\n",
    "    ret_lis.append(tec_el)\n",
    "    return ret_lis\n",
    "print(bracket_split('2(1 + 1) + 1'))"
   ]
  },
  {
   "cell_type": "code",
   "execution_count": 1,
   "metadata": {},
   "outputs": [],
   "source": [
    "from collections import Counter"
   ]
  },
  {
   "cell_type": "code",
   "execution_count": 8,
   "metadata": {},
   "outputs": [
    {
     "name": "stdout",
     "output_type": "stream",
     "text": [
      "[[5, 1], [2, 3], [2, 2], [1, 5], [1, 4]]\n"
     ]
    }
   ],
   "source": [
    "print(sorted(list(map(lambda x: list(x[::-1]), Counter([1, 2 ,3 ,1 ,2 ,3, 4, 5, 1, 1, 1]).items())), reverse=True))\n",
    "\n",
    "def tree(l):\n",
    "    "
   ]
  },
  {
   "cell_type": "code",
   "execution_count": 7,
   "metadata": {},
   "outputs": [
    {
     "name": "stdout",
     "output_type": "stream",
     "text": [
      "0\n"
     ]
    }
   ],
   "source": [
    "print(int(False))"
   ]
  },
  {
   "cell_type": "code",
   "execution_count": 3,
   "metadata": {},
   "outputs": [
    {
     "name": "stdout",
     "output_type": "stream",
     "text": [
      "[[0, 0, 0, 0, 0], [0, 0, 0, 0, 0], [0, 0, 0, 0, 0], [0, 0, 0, 0, 0], [0, 0, 0, 0, 0]]\n"
     ]
    }
   ],
   "source": [
    "print([[0] * 5] * 5)"
   ]
  },
  {
   "cell_type": "code",
   "execution_count": 5,
   "metadata": {},
   "outputs": [
    {
     "name": "stdout",
     "output_type": "stream",
     "text": [
      "['2(1 + 1)', '+', '1']\n"
     ]
    }
   ],
   "source": [
    "# Create a strin compression function\n",
    "def compress(strin):\n",
    "    ret_lis = []\n",
    "    tec_el = ''\n",
    "    brac_count = 0\n",
    "    for el in strin:\n",
    "        if el == ' ' and brac_count == 0:\n",
    "            if tec_el:\n",
    "                ret_lis.append(tec_el)\n",
    "                tec_el = ''\n",
    "        elif el == '(':\n",
    "            brac_count += 1\n",
    "            tec_el += el\n",
    "        elif el == ')':\n",
    "            brac_count -= 1\n",
    "            tec_el += el\n",
    "        else:\n",
    "            tec_el += el\n",
    "    ret_lis.append(tec_el)\n",
    "    return ret_lis\n",
    "print(compress('2(1 + 1) + 1'))"
   ]
  },
  {
   "cell_type": "code",
   "execution_count": 2,
   "metadata": {},
   "outputs": [],
   "source": [
    "import tkinter as tk"
   ]
  },
  {
   "cell_type": "code",
   "execution_count": 5,
   "metadata": {},
   "outputs": [
    {
     "name": "stdout",
     "output_type": "stream",
     "text": [
      "0 0\n",
      "1 0\n",
      "2 0\n",
      "0 0\n",
      "1 0\n",
      "2 0\n",
      "0 1\n",
      "0 2\n",
      "1 2\n"
     ]
    }
   ],
   "source": [
    "window = tk.Tk()\n",
    "window.title(\"Крестики - нолики\")\n",
    "window.geometry('900x900')\n",
    "\n",
    "def n(x, y):\n",
    "    print(x, y)\n",
    "\n",
    "box = [\n",
    "    [tk.Button(text='*', command=lambda: n(0, 0)), tk.Button(text='*', command=lambda: n(1, 0)), tk.Button(text='*', command=lambda: n(2, 0))],\n",
    "    [tk.Button(text='*', command=lambda: n(0, 1)), tk.Button(text='*', command=lambda: n(1, 1)), tk.Button(text='*', command=lambda: n(2, 1))],\n",
    "    [tk.Button(text='*', command=lambda: n(0, 2)), tk.Button(text='*', command=lambda: n(1, 2)), tk.Button(text='*', command=lambda: n(2, 2))]\n",
    "]\n",
    "\n",
    "for el in box:\n",
    "    for d in el:\n",
    "        d.pack()\n",
    "\n",
    "window.mainloop()"
   ]
  },
  {
   "cell_type": "code",
   "execution_count": 6,
   "metadata": {},
   "outputs": [
    {
     "name": "stdout",
     "output_type": "stream",
     "text": [
      "[[0, 0, 0], [0, 0, 0], [0, 0, 0]]\n"
     ]
    }
   ],
   "source": [
    "print([[0] * 3] * 3)"
   ]
  }
 ],
 "metadata": {
  "kernelspec": {
   "display_name": "Python 3.8.1 64-bit",
   "language": "python",
   "name": "python3"
  },
  "language_info": {
   "codemirror_mode": {
    "name": "ipython",
    "version": 3
   },
   "file_extension": ".py",
   "mimetype": "text/x-python",
   "name": "python",
   "nbconvert_exporter": "python",
   "pygments_lexer": "ipython3",
   "version": "3.8.1"
  },
  "orig_nbformat": 4,
  "vscode": {
   "interpreter": {
    "hash": "6a926afa313b26ae1264fdcf81c726a97e69f6ba2ba780f6aa901948710f8d6e"
   }
  }
 },
 "nbformat": 4,
 "nbformat_minor": 2
}
